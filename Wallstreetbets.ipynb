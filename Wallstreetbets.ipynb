{
 "cells": [
  {
   "cell_type": "markdown",
   "metadata": {},
   "source": [
    "## Wall Street Bets Web Scraper"
   ]
  },
  {
   "attachments": {},
   "cell_type": "markdown",
   "metadata": {},
   "source": [
    "We scrape comments from the wallstreetbets subreddit - https://www.reddit.com/r/wallstreetbets/.\n",
    "\n",
    "We crossreference comments with a list of stocks from exchanges NASDAQ and OTC.\n",
    "\n",
    "We analyse the frequency of stock occurences aswell as accuracy by plotting a histogram.\n"
   ]
  },
  {
   "cell_type": "code",
   "execution_count": 1,
   "metadata": {},
   "outputs": [
    {
     "name": "stderr",
     "output_type": "stream",
     "text": [
      "[WDM] - Downloading: 100%|██████████| 6.58M/6.58M [00:01<00:00, 4.24MB/s]\n",
      "C:\\Users\\kianv\\AppData\\Local\\Temp\\ipykernel_22144\\1299038854.py:14: DeprecationWarning: executable_path has been deprecated, please pass in a Service object\n",
      "  driver = webdriver.Chrome(ChromeDriverManager().install())\n",
      "C:\\Users\\kianv\\AppData\\Local\\Temp\\ipykernel_22144\\1299038854.py:20: DeprecationWarning: find_elements_by_xpath is deprecated. Please use find_elements(by=By.XPATH, value=xpath) instead\n",
      "  elems = driver.find_elements_by_xpath(\"//a[@href]\")\n"
     ]
    },
    {
     "data": {
      "text/plain": [
       "' \\ntry:\\n    flairs_links = {}\\n    elems = driver.find_elements_by_xpath(\"//a[@href]\")\\n    for i in range(1,len(elems)):\\n        flairs_links[i] = (elems[i].get_attribute(\"href\"),1)\\nexcept:\\n    pass\\n\\n\\ntry:\\n    user_name_links = []\\n    for i in user_name_links.values():\\n        link = i[0]\\n        link = str(link)\\n        if \"/u/\" in link:\\n            user_name_links.append(link)\\nexcept:\\n    pass\\n'"
      ]
     },
     "execution_count": 1,
     "metadata": {},
     "output_type": "execute_result"
    }
   ],
   "source": [
    "import random\n",
    "import time\n",
    "import matplotlib as plt\n",
    "\n",
    "#Use Selenium to scrape data\n",
    "from selenium import webdriver\n",
    "from selenium.webdriver.support.ui import Select\n",
    "from selenium.webdriver.common.by import By\n",
    "from selenium.webdriver.common.keys import Keys\n",
    "time.sleep(random.random()*5)\n",
    "from selenium import webdriver\n",
    "from webdriver_manager.chrome import ChromeDriverManager\n",
    "\n",
    "driver = webdriver.Chrome(ChromeDriverManager().install())\n",
    "time.sleep(random.random()*5)\n",
    "driver.get(\"https://www.reddit.com/r/wallstreetbets/\")\n",
    "\n",
    "#Find daily discussion link\n",
    "links = {}\n",
    "elems = driver.find_elements_by_xpath(\"//a[@href]\")\n",
    "for i in range(1,len(elems)):\n",
    "    links[i] = (elems[i].get_attribute(\"href\"),1)\n",
    "\n",
    "for i in links.values():\n",
    "    link = i[0]\n",
    "    link = str(link)\n",
    "    if \"daily_discussion\" in link:\n",
    "        daily_link = link\n",
    "\n",
    "time.sleep(random.random()*5+1)\n",
    "\n",
    "\n",
    "#note we throw an exception at the weekend where the \n",
    "#title refers to \"weekend\"\n",
    "if 'daily_link' in globals():\n",
    "    #go to the link titled \"daily link\"\n",
    "    driver.get(daily_link)\n",
    "else:\n",
    "    #In case we can't find the desired link\n",
    "    print(\"Need Manual Intervention\")\n",
    "    time.sleep(random.random()*5+5)"
   ]
  },
  {
   "attachments": {},
   "cell_type": "markdown",
   "metadata": {},
   "source": [
    "Here we load the page, by finding the show more replies button (finding the associated element and then calling the click() function on that 8 times)"
   ]
  },
  {
   "cell_type": "code",
   "execution_count": 3,
   "metadata": {},
   "outputs": [
    {
     "name": "stderr",
     "output_type": "stream",
     "text": [
      "C:\\Users\\kianv\\AppData\\Local\\Temp\\ipykernel_22144\\3009431208.py:5: DeprecationWarning: find_elements_by_css_selector is deprecated. Please use find_elements(by=By.CSS_SELECTOR, value=css_selector) instead\n",
      "  matched_elements = driver.find_elements_by_css_selector(\"p\")\n"
     ]
    }
   ],
   "source": [
    "try:\n",
    "    for j in range(1,8):\n",
    "        i=0\n",
    "        time.sleep(random.random()*2+5)\n",
    "        matched_elements = driver.find_elements_by_css_selector(\"p\")\n",
    "        while 'replies' not in matched_elements[-1-i].text:\n",
    "            i = i+1\n",
    "        matched_elements[-1-i].click()\n",
    "        print(\"Clicked More replies: \" + j + \" times\")\n",
    "except:\n",
    "    pass"
   ]
  },
  {
   "cell_type": "markdown",
   "metadata": {},
   "source": [
    "Now we scour the page for the comment content."
   ]
  },
  {
   "cell_type": "code",
   "execution_count": 38,
   "metadata": {},
   "outputs": [],
   "source": [
    "comments_total = ''\n",
    "#matched_elements = driver.find_elements_by_css_selector(\"p\")\n",
    "matched_elements = driver.find_elements(By.CSS_SELECTOR,\"p\")"
   ]
  },
  {
   "attachments": {},
   "cell_type": "markdown",
   "metadata": {},
   "source": [
    "Save comments to a file"
   ]
  },
  {
   "cell_type": "code",
   "execution_count": 39,
   "metadata": {
    "scrolled": true
   },
   "outputs": [],
   "source": [
    "l=0\n",
    "for matched_element in matched_elements:\n",
    "    comments_total = comments_total +matched_element.text + ' '\n",
    "\n",
    "#Concatenate the text and save to a file\n",
    "\n",
    "from datetime import datetime\n",
    "filename = 'WSB_'+datetime.today().strftime(\"%d.%m.%Y\")+\".txt\"\n",
    "with open(filename, \"w\",encoding=\"utf-8\") as text_file:\n",
    "    text_file.write(comments_total)\n",
    "import shutil"
   ]
  },
  {
   "cell_type": "markdown",
   "metadata": {},
   "source": [
    "### Text analysis\n",
    "\n",
    "Now we open the current file and we try to scan it for potential stock candidates"
   ]
  },
  {
   "cell_type": "markdown",
   "metadata": {},
   "source": [
    "We open the file:"
   ]
  },
  {
   "cell_type": "code",
   "execution_count": 40,
   "metadata": {},
   "outputs": [],
   "source": [
    "with open(filename,encoding=\"utf-8\") as f:\n",
    "    lines = f.readlines()\n",
    "comments = str(lines)"
   ]
  },
  {
   "attachments": {},
   "cell_type": "markdown",
   "metadata": {},
   "source": [
    "We get rid of the miscellaneous characters such as '#' and '@' by using ascii"
   ]
  },
  {
   "cell_type": "code",
   "execution_count": 41,
   "metadata": {},
   "outputs": [],
   "source": [
    "for i in comments:\n",
    "    #Not Lowercase\n",
    "    if ord(i)> 122 or ord(i)<97:\n",
    "        #Not Uppercase\n",
    "        if ord(i)>90 or ord(i)<65:\n",
    "            #Not space\n",
    "            if ord(i) != 32:\n",
    "                comments = comments.replace(i, '')\n",
    "                #print(i)"
   ]
  },
  {
   "attachments": {},
   "cell_type": "markdown",
   "metadata": {},
   "source": [
    "We convert the text to a list where each element is a word"
   ]
  },
  {
   "cell_type": "code",
   "execution_count": 42,
   "metadata": {},
   "outputs": [],
   "source": [
    "comments = comments.split()"
   ]
  },
  {
   "cell_type": "code",
   "execution_count": 65,
   "metadata": {},
   "outputs": [
    {
     "data": {
      "image/png": "[encoded data removed]",
      "text/plain": [
       "<Figure size 640x480 with 1 Axes>"
      ]
     },
     "metadata": {},
     "output_type": "display_data"
    }
   ],
   "source": [
    "import matplotlib.pyplot as plt\n",
    "#Compute length of the name of each stock symbol\n",
    "x = [0 for i in range(len(stock_list))]\n",
    "j=0\n",
    "for elem in stock_list:\n",
    "    x[j] = len(elem)\n",
    "    j+=1\n",
    "\n",
    "#count elements\n",
    "hashmap ={}\n",
    "for elem in x:\n",
    "    if elem not in hashmap:\n",
    "        hashmap[elem] = 1\n",
    "    else:\n",
    "        hashmap[elem]+=1\n",
    "\n",
    "#Plot a bar chart of their lengths\n",
    "plt.bar(sorted(hashmap.keys()),[hashmap[x] for x in sorted(hashmap.keys())])\n",
    "plt.show()"
   ]
  },
  {
   "attachments": {},
   "cell_type": "markdown",
   "metadata": {},
   "source": [
    "We now filter the string to only include words of length between 4 and 5."
   ]
  },
  {
   "cell_type": "code",
   "execution_count": 66,
   "metadata": {},
   "outputs": [],
   "source": [
    "for word in list(comments):\n",
    "    if len(word) <4 or len(word)>5:\n",
    "        comments.remove(word)"
   ]
  },
  {
   "attachments": {},
   "cell_type": "markdown",
   "metadata": {},
   "source": [
    "### Check Validity of a word as a stock"
   ]
  },
  {
   "cell_type": "markdown",
   "metadata": {},
   "source": [
    "Now we get a list of all the symbols in NASDAQ"
   ]
  },
  {
   "cell_type": "code",
   "execution_count": 67,
   "metadata": {},
   "outputs": [],
   "source": [
    "import pandas as pd\n",
    "OTC = pd.read_csv('OTC_17.03.2022.csv')\n",
    "nasdaq = pd.read_csv('NASDAQ_17.03.2022.csv')\n",
    "\n",
    "nasdaq_stocks = nasdaq['Code'].to_list()\n",
    "OTC_stocks = OTC['Code'].to_list()\n",
    "stock_list = nasdaq_stocks + OTC_stocks"
   ]
  },
  {
   "cell_type": "markdown",
   "metadata": {},
   "source": [
    "Make both lists in lowercase for easier comparison"
   ]
  },
  {
   "cell_type": "code",
   "execution_count": 76,
   "metadata": {},
   "outputs": [],
   "source": [
    "for i in range(0,len(stock_list)):\n",
    "    stock_list[i] = stock_list[i].lower()\n",
    "for i in range(1,len(comments)):\n",
    "    comments[i] = comments[i].lower()"
   ]
  },
  {
   "attachments": {},
   "cell_type": "markdown",
   "metadata": {},
   "source": [
    "Check if the stock is indeed a valid symbol by cross referncing."
   ]
  },
  {
   "cell_type": "code",
   "execution_count": 79,
   "metadata": {},
   "outputs": [],
   "source": [
    "final_filter=[]\n",
    "for word in comments:\n",
    "    if word in stock_list:\n",
    "        final_filter.append(word)"
   ]
  },
  {
   "cell_type": "code",
   "execution_count": 81,
   "metadata": {},
   "outputs": [
    {
     "data": {
      "text/plain": [
       "55"
      ]
     },
     "execution_count": 81,
     "metadata": {},
     "output_type": "execute_result"
    }
   ],
   "source": [
    "len(final_filter)"
   ]
  },
  {
   "cell_type": "code",
   "execution_count": 82,
   "metadata": {
    "scrolled": true
   },
   "outputs": [
    {
     "data": {
      "text/plain": [
       "<AxesSubplot: >"
      ]
     },
     "execution_count": 82,
     "metadata": {},
     "output_type": "execute_result"
    },
    {
     "data": {
      "image/png": "[encoded data removed]",
      "text/plain": [
       "<Figure size 640x480 with 1 Axes>"
      ]
     },
     "metadata": {},
     "output_type": "display_data"
    }
   ],
   "source": [
    "import pandas\n",
    "from collections import Counter\n",
    "\n",
    "letter_counts = Counter(final_filter)\n",
    "df = pandas.DataFrame.from_dict(letter_counts, orient='index')\n",
    "df.plot(kind='bar')"
   ]
  },
  {
   "attachments": {},
   "cell_type": "markdown",
   "metadata": {},
   "source": [
    "In conclusion, we may need to crossreference the deteced names with volatility of the given stock to improve accuracy of our program."
   ]
  },
  {
   "cell_type": "code",
   "execution_count": 89,
   "metadata": {},
   "outputs": [],
   "source": [
    "from better_profanity import profanity\n",
    "rudewords=[]\n",
    "for elem in comments:\n",
    "    if profanity.contains_profanity(elem) == True:\n",
    "        rudewords.append(elem)"
   ]
  }
 ],
 "metadata": {
  "kernelspec": {
   "display_name": "Python 3",
   "language": "python",
   "name": "python3"
  },
  "language_info": {
   "codemirror_mode": {
    "name": "ipython",
    "version": 3
   },
   "file_extension": ".py",
   "mimetype": "text/x-python",
   "name": "python",
   "nbconvert_exporter": "python",
   "pygments_lexer": "ipython3",
   "version": "3.11.0"
  },
  "vscode": {
   "interpreter": {
    "hash": "c261aea317cc0286b3b3261fbba9abdec21eaa57589985bb7a274bf54d6cc0a7"
   }
  }
 },
 "nbformat": 4,
 "nbformat_minor": 4
}
